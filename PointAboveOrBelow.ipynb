{
 "cells": [
  {
   "cell_type": "code",
   "execution_count": 178,
   "id": "822d57e7-422b-4250-ae09-83161b6ce673",
   "metadata": {},
   "outputs": [],
   "source": [
    "import random\n",
    "import numpy as np\n",
    "from plotter import Plotter\n",
    "import matplotlib.pyplot as plt\n",
    "import time\n",
    "import pylab as pl\n",
    "from IPython import display\n",
    "import pandas as pd"
   ]
  },
  {
   "cell_type": "code",
   "execution_count": null,
   "id": "98d3639d-6901-484d-818d-fdcfc3122095",
   "metadata": {},
   "outputs": [],
   "source": [
    "# equation of any random line, for eg. here we have picked y = 2.5x+5\n",
    "def f(x):\n",
    "    return 2.5*x+5\n",
    "\n",
    "# mathematical func to evaluate if point is above or below line, we'll use this to train our model\n",
    "def isPointAboveOrBelow(x,y):\n",
    "    if y - 2.5*x-5 > 0:\n",
    "        return 1\n",
    "    else:\n",
    "        return 0"
   ]
  },
  {
   "cell_type": "code",
   "execution_count": 370,
   "id": "0a7a1243-6dc3-4506-87ce-26a5b22e96b4",
   "metadata": {},
   "outputs": [],
   "source": [
    "learning_rate = 0.001\n",
    "class Perceptron:\n",
    "    no = 2  #this is just number of weights we'll be having, in this case as there are only two variables(x,y) so 2\n",
    "    bias = 1\n",
    "    weights = []\n",
    "    def __init__(self, no, bias):\n",
    "        self.no = no\n",
    "        self.bias = bias\n",
    "        self.weights = [random.randint(1,100) for i in range(no)]\n",
    "        \n",
    "    #activation function, fancy name but not really tough to understand\n",
    "    def activate(self, input):\n",
    "        sum = 0\n",
    "        for i in range(len(input)):\n",
    "            sum += input[i]*self.weights[i]\n",
    "        if sum > 0:\n",
    "            return 1 \n",
    "        else:\n",
    "            return 0    \n",
    "\n",
    "    #guess and adjust, :train_emoji:\n",
    "    def train(self, input, desired):\n",
    "        guess = self.activate(input)\n",
    "        error = desired - guess\n",
    "        if error!=0:\n",
    "            for i in range(len(input)):\n",
    "                self.weights[i] += input[i]*learning_rate*error            \n",
    "\n",
    "#Now that we have a perceptron, we will create a network of them to train them individually\n",
    "class NeuralNetwork:\n",
    "    perceptrons = []\n",
    "    def __init__(self, no_of_perceptrons):\n",
    "        for i in range(no_of_perceptrons):\n",
    "            self.perceptrons.append(Perceptron(2,1))\n",
    "    def train(self):\n",
    "        input = []\n",
    "        desired = []\n",
    "        for i in range(1000):\n",
    "            x = random.randint(random.randint(1,50),random.randint(51, 300))\n",
    "            y = random.randint(random.randint(1,50),random.randint(51, 300))\n",
    "            input.append([x, y])\n",
    "            desired.append(isPointAboveOrBelow(x,y))\n",
    "        for i in range(1000):\n",
    "            for p in range(len(self.perceptrons)):\n",
    "                for inp in range(len(input)):\n",
    "                    self.perceptrons[p].train(input[inp], desired[inp])   \n",
    "\n",
    "    #majority wins!\n",
    "    def activate(self,input):\n",
    "        total = 0\n",
    "        for p in range(len(self.perceptrons)):\n",
    "            total += self.perceptrons[p].activate(input)\n",
    "        if total > len(self.perceptrons)//2:\n",
    "            return 1\n",
    "        else:\n",
    "            return 0"
   ]
  },
  {
   "cell_type": "code",
   "execution_count": 377,
   "id": "1b51abf9-fa8e-450c-8b78-5510720ec83f",
   "metadata": {},
   "outputs": [],
   "source": [
    "# finally, the good part\n",
    "network = NeuralNetwork(5)\n",
    "network.train()"
   ]
  },
  {
   "cell_type": "code",
   "execution_count": 378,
   "id": "b2277cf7-7a99-47ad-a9bc-dd7573920973",
   "metadata": {},
   "outputs": [
    {
     "name": "stdout",
     "output_type": "stream",
     "text": [
      "accuracy of network :  0.9933333333333333\n"
     ]
    }
   ],
   "source": [
    "#time to taste\n",
    "correct_guesses = 0\n",
    "total_guesses = 300\n",
    "for i in range(total_guesses):\n",
    "    x = random.randint(200,2000)\n",
    "    y = random.randint(300,2000)\n",
    "    guess = network.activate([x,y])\n",
    "    desired = isPointAboveOrBelow(x,y)\n",
    "    if guess == desired:\n",
    "        correct_guesses += 1\n",
    "print(\"accuracy of network : \" , correct_guesses/total_guesses)"
   ]
  },
  {
   "cell_type": "code",
   "execution_count": 379,
   "id": "174d4846-3347-43b9-8ac2-1ff5a050ff34",
   "metadata": {},
   "outputs": [
    {
     "data": {
      "image/png": "[encoded data removed]",
      "text/plain": [
       "<Figure size 640x480 with 1 Axes>"
      ]
     },
     "metadata": {},
     "output_type": "display_data"
    }
   ],
   "source": [
    "#this part is just to make this project look good ;)\n",
    "plt.plot([0,100],[5,255] , 'bo', linestyle=\"-\")\n",
    "for i in range(100):\n",
    "    x = random.randint(1,100)\n",
    "    y = random.randint(1,255)\n",
    "    flag = network.activate([x,y])\n",
    "    clr = 'red'\n",
    "    if flag == 0:\n",
    "        clr = 'black'\n",
    "    plt.scatter(x,y, color=clr)\n",
    "    display.display(plt.gcf())\n",
    "    display.clear_output(wait=True)"
   ]
  },
  {
   "cell_type": "code",
   "execution_count": null,
   "id": "5a44ebed-8005-48a5-904e-e43cb2899eee",
   "metadata": {},
   "outputs": [],
   "source": []
  }
 ],
 "metadata": {
  "kernelspec": {
   "display_name": "Python 3 (ipykernel)",
   "language": "python",
   "name": "python3"
  },
  "language_info": {
   "codemirror_mode": {
    "name": "ipython",
    "version": 3
   },
   "file_extension": ".py",
   "mimetype": "text/x-python",
   "name": "python",
   "nbconvert_exporter": "python",
   "pygments_lexer": "ipython3",
   "version": "3.9.6"
  }
 },
 "nbformat": 4,
 "nbformat_minor": 5
}
